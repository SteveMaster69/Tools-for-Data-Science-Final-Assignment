{
 "cells": [
  {
   "cell_type": "markdown",
   "id": "19c855fd-a65d-4a2c-ab9b-80ca272a3138",
   "metadata": {
    "tags": []
   },
   "source": [
    "# Data Science Tools and Ecosystem"
   ]
  },
  {
   "cell_type": "markdown",
   "id": "01e88ae3-77f1-49ec-a09b-34316fcc193e",
   "metadata": {},
   "source": [
    "In this notebook, Data Science Tools and Ecosystem are summarized."
   ]
  },
  {
   "cell_type": "markdown",
   "id": "d3664bb9-3d38-49aa-93b0-eb161701bf72",
   "metadata": {},
   "source": [
    " __Objectives:__\n",
    " \n",
    " * Create and Edit a Jupyter Notebook\n",
    " * List popular languages for Data Science\n",
    " * List some common libraries used by Data Scientists"
   ]
  },
  {
   "cell_type": "markdown",
   "id": "35caaeb4-e216-45f9-a37b-38eeb52dd4e2",
   "metadata": {},
   "source": [
    "Some of the popular languages that Data Scientists use are:\n",
    "\n",
    "1. Python\n",
    "2. R\n",
    "3. Julia\n",
    "4. SQL\n",
    "5. Scala"
   ]
  },
  {
   "cell_type": "markdown",
   "id": "4998ce1c-20b2-46d0-8e1e-fb7963f28066",
   "metadata": {},
   "source": [
    "Some of the commonly used libraries used by Data Scientists include:\n",
    "\n",
    "1. Numpy\n",
    "2. Pandas\n",
    "3. MatPlotLib\n",
    "4. Scikit-Learn\n",
    "5. Keras\n",
    "6. TensorFlow"
   ]
  },
  {
   "cell_type": "markdown",
   "id": "b544070c-9609-4d8e-a4e6-05c67c0d2f0e",
   "metadata": {},
   "source": [
    "| Data Science Tools |\n",
    "| ----------------- |\n",
    "| Jupyter Notebook |\n",
    "| MySQL |\n",
    "| PixieDust |"
   ]
  },
  {
   "cell_type": "markdown",
   "id": "99b6805f-3e98-4902-89fe-41ae53779988",
   "metadata": {},
   "source": [
    "### Below are a few examples of evaluating arithmetic expressions in Python"
   ]
  },
  {
   "cell_type": "code",
   "execution_count": 2,
   "id": "e8194165-2ae5-4458-a09c-dd851b56cea0",
   "metadata": {},
   "outputs": [
    {
     "data": {
      "text/plain": [
       "17"
      ]
     },
     "execution_count": 2,
     "metadata": {},
     "output_type": "execute_result"
    }
   ],
   "source": [
    "# This a simple arithmetic expression to mutiply then add integers\n",
    "(3*4)+5"
   ]
  },
  {
   "cell_type": "code",
   "execution_count": 3,
   "id": "b7010683-d471-40fd-99a3-c1556ae054bd",
   "metadata": {},
   "outputs": [
    {
     "data": {
      "text/plain": [
       "3.3333333333333335"
      ]
     },
     "execution_count": 3,
     "metadata": {},
     "output_type": "execute_result"
    }
   ],
   "source": [
    "# This will convert 200 minutes to hours by diving by 60\n",
    "200/60"
   ]
  },
  {
   "cell_type": "markdown",
   "id": "c4312556-8b78-40c3-9ad1-6621cb05c366",
   "metadata": {},
   "source": [
    "## Author\n",
    "Cristhian Coello Villalta"
   ]
  },
  {
   "cell_type": "code",
   "execution_count": null,
   "id": "3e4e029d-e75f-43f3-8d68-d0096ab07621",
   "metadata": {},
   "outputs": [],
   "source": []
  }
 ],
 "metadata": {
  "kernelspec": {
   "display_name": "Python 3 (ipykernel)",
   "language": "python",
   "name": "python3"
  },
  "language_info": {
   "codemirror_mode": {
    "name": "ipython",
    "version": 3
   },
   "file_extension": ".py",
   "mimetype": "text/x-python",
   "name": "python",
   "nbconvert_exporter": "python",
   "pygments_lexer": "ipython3",
   "version": "3.10.3"
  }
 },
 "nbformat": 4,
 "nbformat_minor": 5
}
